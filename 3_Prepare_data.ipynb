{
 "cells": [
  {
   "cell_type": "markdown",
   "id": "c386164f",
   "metadata": {},
   "source": [
    "# import + set paths"
   ]
  },
  {
   "cell_type": "code",
   "execution_count": null,
   "id": "6f966316",
   "metadata": {
    "scrolled": true
   },
   "outputs": [
    {
     "name": "stdout",
     "output_type": "stream",
     "text": [
      "Figure directory set to:  C:\\Users\\Emmett\\Documents\\Sequence\\sequences_run_PPseq\\utilities\\figures/\n"
     ]
    }
   ],
   "source": [
    "\n",
    "from utilities.utils import recording_id_list\n",
    "from utilities.prepare_data_funcs import *\n",
    "\n",
    "\n",
    "# path = r\"Z:\\projects\\sequence_squad\\organised_data\\animals\\\\\"\n",
    "path = r\"Z:\\projects\\sequence_squad\\revision_data\\organised_data\\animals\\\\\"\n",
    "\n",
    "\n",
    "## set main params \n",
    "\n",
    "# mouse_implant_recordings = [\"ap5R_1_1\",\"ap5R_1_2\",\"ap5R_1_3\",\"seq008_1_3\",\"seq006_1_1\",\"seq006_1_2\",\"seq006_1_3\",\"seq006_1_4\",\"seq006_1_5\",\"seq006_1_6\",\"seq006_1_8\",\"seq006_1_9\",\"seq006_1_10\",\"seq006_1_11\"]\n",
    "mouse_implant_recordings = [\"seq006_1_8\",\"seq006_1_9\",\"seq006_1_10\",\"seq006_1_11\",\"seq008_1_3\",\"seq007_1_4\"]\n",
    "\n",
    "probe = 'A'\n",
    "\n",
    "time_span = 'Pre_sleep'#'Post_sleep' #'Awake' #'Post_sleep' # 'Medium_pre_sleep' #'Post_sleep'#'Pre_sleep,'Short_awake'\n",
    "region = 'striatum' #striatum m_cortex or both\n",
    "\n",
    "# [\"136_1_3\",\"136_1_4\",\"149_1_2\",\"178_1_4\",\"178_1_5\",\"178_1_6\",\"178_1_8\",\"178_1_9\",\"178_2_1\",\"178_2_2\",\"178_2_4\",\"238_1_4\",\"238_1_5\"]\n"
   ]
  },
  {
   "cell_type": "code",
   "execution_count": null,
   "id": "6b705e95",
   "metadata": {
    "scrolled": true
   },
   "outputs": [],
   "source": [
    "# for region in ['striatum', 'm_cortex','both']:\n",
    "for index,mir in enumerate(mouse_implant_recordings):\n",
    "\n",
    "    mouse_name = mir.split('_')[0]\n",
    "    implant_num = mir.split('_')[1]\n",
    "    recording_num = mir.split('_')[-1]\n",
    "    \n",
    "    for mir_file in os.listdir(path):\n",
    "        if mir_file.split('_')[0] == mouse_name:\n",
    "            animal_path = os.path.join(path,mir_file)\n",
    "\n",
    "    for recording in os.listdir(animal_path):\n",
    "        if recording_num == recording.split('_')[0].split('g')[-1]:\n",
    "            animal_recording_path = os.path.join(animal_path,recording)\n",
    "            current_spikes_path = animal_recording_path + r'\\ephys\\\\'\n",
    "            print('************************************************')\n",
    "            print(mir)\n",
    "            print(f'recording found = {animal_recording_path}')\n",
    "            print('************************************************')\n",
    "            process = True\n",
    "\n",
    "    if process == True:\n",
    "        ## set params\n",
    "\n",
    "        full_path_to_data = animal_recording_path\n",
    "        mouse_implant_recording =mir\n",
    "        output_filename = mir\n",
    "#                 save_path = r\"Z:\\projects\\sequence_squad\\organised_data\\ppseq_data\\prepared_data\\\\\"\n",
    "        save_path = r\"Z:\\projects\\sequence_squad\\revision_data\\organised_data\\ppseq_data\\prepared_data\\\\\"\n",
    "        min_fano_factor = 0.5 #1#0.5\n",
    "        max_fano_factor = 12\n",
    "        max_firing_rate = 15 #12#15.0 # deafult #removes igh firing rate neurons\n",
    "        single_or_multiunits = 'both'\n",
    "        align_to_zero = True  #if true then spike trains start from 0\n",
    "        shuffle = 'None' #'shuffle_clusters' # options for shuffeling data, other options are: 'shuffle_clusters' and 'jitter_timeToJitterInSecs' e.g. 'jitter_0.1' \n",
    "        visualise = True #True will plot a summary, False will skip this\n",
    "        use_emmett_curation = False\n",
    "\n",
    "        # set save path\n",
    "        if shuffle == 'None':\n",
    "            save_path = os.path.join(os.path.join(save_path,region),time_span) + '\\\\'\n",
    "        else:\n",
    "            save_path = os.path.join(os.path.join(save_path,region),time_span) + '\\\\' + shuffle + '\\\\'\n",
    "            print(save_path)\n",
    "            \n",
    "        # for sleep stuff:\n",
    "        awake_data_path = r\"Z:\\projects\\sequence_squad\\revision_data\\organised_data\\ppseq_data\\output_data\\striatum\\Awake_final\\\\\"\n",
    "        awake_data_path = r\"Z:\\projects\\sequence_squad\\ppseq_finalised_publication_data\\expert\\awake\\\\\"\n",
    "\n",
    "        args = {\n",
    "            \"full_path_to_data\": animal_recording_path,\n",
    "            \"mouse_implant_recording\": mouse_implant_recording,\n",
    "            \"output_filename\": output_filename,\n",
    "            \"save_path\": save_path,\n",
    "            \"time_span\": time_span,\n",
    "            \"single_or_multiunits\": single_or_multiunits,\n",
    "            \"region\": region,\n",
    "            \"use_emmett_curation\": use_emmett_curation,\n",
    "            \"max_firing_rate\": max_firing_rate,\n",
    "            \"align_to_zero\": align_to_zero,\n",
    "            \"shuffle\": shuffle,\n",
    "            \"visualise\": visualise,\n",
    "            \"min_fano_factor\": min_fano_factor,\n",
    "            \"max_fano_factor\": max_fano_factor,\n",
    "            \"awake_data_path\": awake_data_path,\n",
    "            \"probe\": probe\n",
    "        }\n",
    "\n",
    "        ## RUN Prepare data\n",
    "        prepare_data(args)"
   ]
  },
  {
   "cell_type": "code",
   "execution_count": null,
   "id": "8c4e26fe-5d8c-4e09-996d-69beda36741d",
   "metadata": {},
   "outputs": [],
   "source": []
  }
 ],
 "metadata": {
  "kernelspec": {
   "display_name": "Python 3 (ipykernel)",
   "language": "python",
   "name": "python3"
  },
  "language_info": {
   "codemirror_mode": {
    "name": "ipython",
    "version": 3
   },
   "file_extension": ".py",
   "mimetype": "text/x-python",
   "name": "python",
   "nbconvert_exporter": "python",
   "pygments_lexer": "ipython3",
   "version": "3.11.10"
  }
 },
 "nbformat": 4,
 "nbformat_minor": 5
}
